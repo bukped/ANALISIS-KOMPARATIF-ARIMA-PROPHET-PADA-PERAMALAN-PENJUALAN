{
  "nbformat": 4,
  "nbformat_minor": 0,
  "metadata": {
    "colab": {
      "provenance": []
    },
    "kernelspec": {
      "name": "python3",
      "display_name": "Python 3"
    },
    "language_info": {
      "name": "python"
    }
  },
  "cells": [
    {
      "cell_type": "code",
      "execution_count": null,
      "metadata": {
        "id": "-dxvTqfbWs9K"
      },
      "outputs": [],
      "source": [
        "# RMSE Prophet \n",
        "print('RMSE: %f' % np.sqrt(np.mean((forecast.loc[:len(forecast['yhat']), 'yhat']-train['y'])**2)) )"
      ]
    },
    {
      "cell_type": "code",
      "source": [
        "# Evaluation metrics are Squared Mean Error(SME) and Root Mean Squared Error(RMSE) ARIMA\n",
        "\n",
        "y_hat = prediction.predicted_mean\n",
        "y_truth = y['2021-01-01':]\n",
        "\n",
        "mse = ((y_hat - y_truth) ** 2).mean()\n",
        "rmse = np.sqrt(mse)\n",
        "print('The Mean Squared Error of our forecasts is {}'.format(round(mse, 2)))\n",
        "print('The Root Mean Squared Error of our forecasts is {}'.format(round(rmse, 2)))\n"
      ],
      "metadata": {
        "id": "HUmMilTOWzr1"
      },
      "execution_count": null,
      "outputs": []
    }
  ]
}